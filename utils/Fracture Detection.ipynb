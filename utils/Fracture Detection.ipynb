{
 "cells": [
  {
   "cell_type": "code",
   "execution_count": 1,
   "id": "09977aff-afb1-456a-8fb2-9774091c7121",
   "metadata": {},
   "outputs": [],
   "source": [
    "from PIL import Image\n",
    "import cv2\n",
    "import numpy as np"
   ]
  },
  {
   "cell_type": "code",
   "execution_count": 3,
   "id": "886abc87-1d85-425d-bc72-3077e96808ae",
   "metadata": {},
   "outputs": [],
   "source": [
    "def convert_tiff_to_jpg(tiff_file, jpg_file):\n",
    "    img = cv2.imread(tiff_file)\n",
    "    cv2.imwrite(jpg_file, img)"
   ]
  },
  {
   "cell_type": "code",
   "execution_count": 4,
   "id": "3e903c61-401d-47e4-bc90-216ae46a9e72",
   "metadata": {},
   "outputs": [],
   "source": [
    "tiff_folder = r\"E:\\Core-CT-scan-M04\\SlicesY-ID01-240125-M04\\\\\"\n",
    "train_jpg_folder = r\"D:\\Fracture Detection\\data\\images\\train\\\\\"\n",
    "val_jpg_folder = r\"D:\\Fracture Detection\\data\\images\\val\\\\\"\n",
    "test_jpg_folder = r\"D:\\Fracture Detection\\data\\images\\test\\\\\""
   ]
  },
  {
   "cell_type": "code",
   "execution_count": 7,
   "id": "5f364850-0d39-40cd-92db-373b20218ecc",
   "metadata": {},
   "outputs": [],
   "source": [
    "j = 1\n",
    "for i in range(2500,6500):\n",
    "    if (len(str(i)) == 1 and i % 50 == 0):\n",
    "        img_tiff_path = tiff_folder + 'slice0000' + str(i) + '.tif'\n",
    "        img_jpg_path = train_jpg_folder + 'img' + str(j) + '.tif'\n",
    "        convert_tiff_to_jpg(img_tiff_path,img_jpg_path)\n",
    "        j += 1\n",
    "\n",
    "    elif(len(str(i)) == 2 and i % 50 == 0):\n",
    "        img_tiff_path = tiff_folder + 'slice000' + str(i) + '.tif'\n",
    "        img_jpg_path = train_jpg_folder + 'img' + str(j) + '.tif'\n",
    "        convert_tiff_to_jpg(img_tiff_path,img_jpg_path)\n",
    "        j += 1\n",
    "\n",
    "    elif(len(str(i)) == 3 and i % 50 == 0):\n",
    "        img_tiff_path = tiff_folder + 'slice00' + str(i) + '.tif'\n",
    "        img_jpg_path = train_jpg_folder + 'img' + str(j) + '.tif'\n",
    "        convert_tiff_to_jpg(img_tiff_path,img_jpg_path)\n",
    "        j += 1\n",
    "\n",
    "    elif(len(str(i)) == 4 and i % 50 == 0):\n",
    "        img_tiff_path = tiff_folder + 'slice0' + str(i) + '.tif'\n",
    "        img_jpg_path = train_jpg_folder + 'img' + str(j) + '.tif'\n",
    "        convert_tiff_to_jpg(img_tiff_path,img_jpg_path)\n",
    "        j += 1\n",
    "\n",
    "    elif(len(str(i)) == 5 and i % 50 == 0):\n",
    "        img_tiff_path = tiff_folder + 'slice' + str(i) + '.tif'\n",
    "        img_jpg_path = train_jpg_folder + 'img' + str(j) + '.tif'\n",
    "        convert_tiff_to_jpg(img_tiff_path,img_jpg_path)\n",
    "        j += 1\n"
   ]
  },
  {
   "cell_type": "code",
   "execution_count": 8,
   "id": "eb1a321a-d7cc-4219-bc14-2df13014adff",
   "metadata": {},
   "outputs": [],
   "source": [
    "k = 81\n",
    "for i in range(2500,6500):\n",
    "    if(len(str(i)) == 1 and i % 200 == 0):\n",
    "        img_tiff_path = tiff_folder + 'slice0000' + str(i) + '.tif'\n",
    "        img_jpg_path = val_jpg_folder + 'img' + str(k) + '.tif'\n",
    "        convert_tiff_to_jpg(img_tiff_path,img_jpg_path)\n",
    "        k += 1\n",
    "\n",
    "    elif(len(str(i)) == 2 and i % 200 == 0):\n",
    "        img_tiff_path = tiff_folder + 'slice000' + str(i) + '.tif'\n",
    "        img_jpg_path = val_jpg_folder + 'img' + str(k) + '.tif'\n",
    "        convert_tiff_to_jpg(img_tiff_path,img_jpg_path)\n",
    "        k += 1\n",
    "\n",
    "    elif(len(str(i)) == 3 and i % 200 == 0):\n",
    "        img_tiff_path = tiff_folder + 'slice00' + str(i) + '.tif'\n",
    "        img_jpg_path = val_jpg_folder + 'img' + str(k) + '.tif'\n",
    "        convert_tiff_to_jpg(img_tiff_path,img_jpg_path)\n",
    "        k += 1\n",
    "\n",
    "    elif(len(str(i)) == 4 and i % 200 == 0):\n",
    "        img_tiff_path = tiff_folder + 'slice0' + str(i) + '.tif'\n",
    "        img_jpg_path = val_jpg_folder + 'img' + str(k) + '.tif'\n",
    "        convert_tiff_to_jpg(img_tiff_path,img_jpg_path)\n",
    "        k += 1\n",
    "\n",
    "    elif(len(str(i)) == 5 and i % 200 == 0):\n",
    "        img_tiff_path = tiff_folder + 'slice' + str(i) + '.tif'\n",
    "        img_jpg_path = val_jpg_folder + 'img' + str(k) + '.tif'\n",
    "        convert_tiff_to_jpg(img_tiff_path,img_jpg_path)\n",
    "        k += 1"
   ]
  },
  {
   "cell_type": "code",
   "execution_count": 9,
   "id": "6ac408e1-609c-40c7-a856-a2390a5a20f7",
   "metadata": {},
   "outputs": [],
   "source": [
    "l = 101\n",
    "for i in range(2500,6500):\n",
    "    if(len(str(i)) == 1 and i % 100 == 0):\n",
    "        img_tiff_path = tiff_folder + 'slice0000' + str(i) + '.tif'\n",
    "        img_jpg_path = test_jpg_folder + 'img' + str(l) + '.tif'\n",
    "        convert_tiff_to_jpg(img_tiff_path,img_jpg_path)\n",
    "        l += 1\n",
    "\n",
    "    elif(len(str(i)) == 2 and i % 100 == 0):\n",
    "        img_tiff_path = tiff_folder + 'slice000' + str(i) + '.tif'\n",
    "        img_jpg_path = test_jpg_folder + 'img' + str(l) + '.tif'\n",
    "        convert_tiff_to_jpg(img_tiff_path,img_jpg_path)\n",
    "        l += 1\n",
    "\n",
    "    elif(len(str(i)) == 3 and i % 100 == 0):\n",
    "        img_tiff_path = tiff_folder + 'slice00' + str(i) + '.tif'\n",
    "        img_jpg_path = test_jpg_folder + 'img' + str(l) + '.tif'\n",
    "        convert_tiff_to_jpg(img_tiff_path,img_jpg_path)\n",
    "        l += 1\n",
    "\n",
    "    elif(len(str(i)) == 4 and i % 100 == 0):\n",
    "        img_tiff_path = tiff_folder + 'slice0' + str(i) + '.tif'\n",
    "        img_jpg_path = test_jpg_folder + 'img' + str(l) + '.tif'\n",
    "        convert_tiff_to_jpg(img_tiff_path,img_jpg_path)\n",
    "        l += 1\n",
    "\n",
    "    elif(len(str(i)) == 5 and i % 100 == 0):\n",
    "        img_tiff_path = tiff_folder + 'slice' + str(i) + '.tif'\n",
    "        img_jpg_path = test_jpg_folder + 'img' + str(l) + '.tif'\n",
    "        convert_tiff_to_jpg(img_tiff_path,img_jpg_path)\n",
    "        l += 1"
   ]
  },
  {
   "cell_type": "code",
   "execution_count": null,
   "id": "6ab2c56e-893c-48ee-9de2-ddd8bc3a4ca1",
   "metadata": {},
   "outputs": [],
   "source": []
  }
 ],
 "metadata": {
  "kernelspec": {
   "display_name": "Python 3 (ipykernel)",
   "language": "python",
   "name": "python3"
  },
  "language_info": {
   "codemirror_mode": {
    "name": "ipython",
    "version": 3
   },
   "file_extension": ".py",
   "mimetype": "text/x-python",
   "name": "python",
   "nbconvert_exporter": "python",
   "pygments_lexer": "ipython3",
   "version": "3.12.4"
  }
 },
 "nbformat": 4,
 "nbformat_minor": 5
}
