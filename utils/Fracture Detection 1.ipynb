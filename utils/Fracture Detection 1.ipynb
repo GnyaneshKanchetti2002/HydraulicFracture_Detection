{
 "cells": [
  {
   "cell_type": "code",
   "execution_count": 1,
   "id": "f027453a-f18a-4052-935c-9bf5154301fb",
   "metadata": {},
   "outputs": [],
   "source": [
    "import json\n",
    "\n",
    "import cv2\n",
    "\n",
    "import os"
   ]
  },
  {
   "cell_type": "code",
   "execution_count": 3,
   "id": "dac4e715-bcb4-4b03-b2b4-22f1daad21d6",
   "metadata": {},
   "outputs": [],
   "source": [
    "train_img_path = r\"D:\\Fracture Detection\\data\\images\\train\\\\\"\n",
    "val_img_path = r\"D:\\Fracture Detection\\data\\images\\val\\\\\"\n",
    "train_label_path = r\"D:\\Fracture Detection\\data\\labels\\train\\\\\"\n",
    "val_label_path = r\"D:\\Fracture Detection\\data\\labels\\val\\\\\"\n",
    "train_ann_path = r\"D:\\Fracture Detection\\annotations\\train_labels_VGG.json\"\n",
    "val_ann_path = r\"D:\\Fracture Detection\\annotations\\val_labels_VGG.json\""
   ]
  },
  {
   "cell_type": "code",
   "execution_count": 5,
   "id": "e905ddb8-82a4-42ab-876c-0e3d57e25488",
   "metadata": {},
   "outputs": [],
   "source": [
    "with open(train_ann_path, 'r') as file:\n",
    "    train_vgg_data = json.load(file)"
   ]
  },
  {
   "cell_type": "code",
   "execution_count": 7,
   "id": "65df2607-5b31-4105-868e-5552e7acf3e7",
   "metadata": {},
   "outputs": [],
   "source": [
    "with open(val_ann_path, 'r') as file:\n",
    "    val_vgg_data = json.load(file)"
   ]
  },
  {
   "cell_type": "code",
   "execution_count": 9,
   "id": "3e4ab534-f649-453a-bbc9-6693032ad1a4",
   "metadata": {},
   "outputs": [],
   "source": [
    "for image_id, image_data in train_vgg_data.items():\n",
    "    file_path = train_label_path + image_id.replace('.jpg', '') + '.txt'\n",
    "    file = open(file_path, 'w', encoding = 'utf-8')\n",
    "    file.write('')\n",
    "    file.close()"
   ]
  },
  {
   "cell_type": "code",
   "execution_count": 11,
   "id": "a9dc53c2-4e02-4e27-8819-fb4380a2c233",
   "metadata": {},
   "outputs": [],
   "source": [
    "class_mapping = {'Fracture': 1}\n",
    "for image_id, image_data in train_vgg_data.items():\n",
    "    for region in image_data['regions'].values():\n",
    "        points = []\n",
    "        for i, j in zip(region['shape_attributes']['all_points_x'], region['shape_attributes']['all_points_y']):\n",
    "            points.append(i/640)\n",
    "            points.append(j/640)\n",
    "\n",
    "        class_name = region['region_attributes']['label']\n",
    "        class_id = class_mapping[class_name]\n",
    "\n",
    "        file_path = train_label_path + image_id.replace('.jpg', '') + '.txt'\n",
    "        file = open(file_path, 'a', encoding = 'utf-8')\n",
    "        file.write('{0}'.format(class_id))\n",
    "        for k in points:\n",
    "            file.write(' {0}'.format(k))\n",
    "        file.write('\\n')\n",
    "        file.close()"
   ]
  },
  {
   "cell_type": "code",
   "execution_count": 13,
   "id": "2b07d446-9d91-4ac9-b126-757c3b71de5b",
   "metadata": {},
   "outputs": [],
   "source": [
    "for image_id, image_data in val_vgg_data.items():\n",
    "    file_path = val_label_path + image_id.replace('.jpg', '') + '.txt'\n",
    "    file = open(file_path, 'w', encoding = 'utf-8')\n",
    "    file.write('')\n",
    "    file.close()"
   ]
  },
  {
   "cell_type": "code",
   "execution_count": 15,
   "id": "cf4fed87-b7f9-41df-a7ec-fdca822427c6",
   "metadata": {},
   "outputs": [],
   "source": [
    "class_mapping = {'Fracture': 1}\n",
    "for image_id, image_data in val_vgg_data.items():\n",
    "    for region in image_data['regions'].values():\n",
    "        points = []\n",
    "        for i, j in zip(region['shape_attributes']['all_points_x'], region['shape_attributes']['all_points_y']):\n",
    "            points.append(i/640)\n",
    "            points.append(j/640)\n",
    "\n",
    "        class_name = region['region_attributes']['label']\n",
    "        class_id = class_mapping[class_name]\n",
    "\n",
    "        file_path = val_label_path + image_id.replace('.jpg', '') + '.txt'\n",
    "        file = open(file_path, 'a', encoding = 'utf-8')\n",
    "        file.write('{0}'.format(class_id))\n",
    "        for k in points:\n",
    "            file.write(' {0}'.format(k))\n",
    "        file.write('\\n')\n",
    "        file.close()"
   ]
  },
  {
   "cell_type": "code",
   "execution_count": null,
   "id": "598c5cc1-01b8-49ba-a2d4-048768d65f79",
   "metadata": {},
   "outputs": [],
   "source": []
  }
 ],
 "metadata": {
  "kernelspec": {
   "display_name": "Python 3 (ipykernel)",
   "language": "python",
   "name": "python3"
  },
  "language_info": {
   "codemirror_mode": {
    "name": "ipython",
    "version": 3
   },
   "file_extension": ".py",
   "mimetype": "text/x-python",
   "name": "python",
   "nbconvert_exporter": "python",
   "pygments_lexer": "ipython3",
   "version": "3.12.4"
  }
 },
 "nbformat": 4,
 "nbformat_minor": 5
}
